{
 "cells": [
  {
   "cell_type": "markdown",
   "id": "a050ef1d-6610-49ee-9ef5-7b9e861d04b9",
   "metadata": {},
   "source": [
    "# Practical Exercises \n",
    "For practicing the numpy skills learned so far "
   ]
  },
  {
   "cell_type": "markdown",
   "id": "ebbf6203-2856-4efa-998c-b0d08aa2dc9c",
   "metadata": {},
   "source": [
    "## 1. Working with API Image Data in Numpy and Matplotlib\n",
    "- Write a program to download the images from the [Metropolitan Museum of Art API](https://metmuseum.github.io)\n",
    "\n",
    "- Generate an image (like the one shown below) by plotting random images from the collection\n",
    "\n",
    "<img src=\"../assets/met_example_image.png\" alt=\"\" width=\"500\"/>"
   ]
  },
  {
   "cell_type": "code",
   "execution_count": 64,
   "id": "121a25ea-7f03-4e7d-bd35-cc80a944e84e",
   "metadata": {},
   "outputs": [],
   "source": [
    "import os\n",
    "import random\n",
    "import json\n",
    "import requests\n",
    "import cv2\n",
    "import urllib\n",
    "import http\n",
    "import numpy as np\n",
    "import pandas as pd\n",
    "import matplotlib.pyplot as plt\n",
    "import statsmodels.api as sm\n",
    "from mpl_toolkits.axes_grid1 import ImageGrid\n",
    "from tqdm.notebook import tqdm"
   ]
  },
  {
   "cell_type": "code",
   "execution_count": 35,
   "id": "d051fef2-27b7-43b2-afe4-8b8f9cd96ff1",
   "metadata": {},
   "outputs": [
    {
     "data": {
      "application/vnd.jupyter.widget-view+json": {
       "model_id": "8eca4b820e584deb8359eddb48e7d108",
       "version_major": 2,
       "version_minor": 0
      },
      "text/plain": [
       "  0%|          | 0/483493 [00:00<?, ?it/s]"
      ]
     },
     "metadata": {},
     "output_type": "display_data"
    },
    {
     "ename": "KeyboardInterrupt",
     "evalue": "",
     "output_type": "error",
     "traceback": [
      "\u001b[0;31m---------------------------------------------------------------------------\u001b[0m",
      "\u001b[0;31mKeyboardInterrupt\u001b[0m                         Traceback (most recent call last)",
      "Cell \u001b[0;32mIn[35], line 28\u001b[0m\n\u001b[1;32m     25\u001b[0m         \u001b[38;5;28;01melse\u001b[39;00m:\n\u001b[1;32m     26\u001b[0m             \u001b[38;5;28;01mcontinue\u001b[39;00m\n\u001b[0;32m---> 28\u001b[0m \u001b[43mget_images\u001b[49m\u001b[43m(\u001b[49m\u001b[43m)\u001b[49m\n",
      "Cell \u001b[0;32mIn[35], line 20\u001b[0m, in \u001b[0;36mget_images\u001b[0;34m()\u001b[0m\n\u001b[1;32m     17\u001b[0m \u001b[38;5;28;01melse\u001b[39;00m:\n\u001b[1;32m     18\u001b[0m     \u001b[38;5;28;01mtry\u001b[39;00m:\n\u001b[1;32m     19\u001b[0m         \u001b[38;5;66;03m# for readable links, retrieving the image and saving it.\u001b[39;00m\n\u001b[0;32m---> 20\u001b[0m         \u001b[43murllib\u001b[49m\u001b[38;5;241;43m.\u001b[39;49m\u001b[43mrequest\u001b[49m\u001b[38;5;241;43m.\u001b[39;49m\u001b[43murlretrieve\u001b[49m\u001b[43m(\u001b[49m\u001b[43mindividual_object_data\u001b[49m\u001b[43m[\u001b[49m\u001b[38;5;124;43m'\u001b[39;49m\u001b[38;5;124;43mprimaryImageSmall\u001b[39;49m\u001b[38;5;124;43m'\u001b[39;49m\u001b[43m]\u001b[49m\u001b[43m,\u001b[49m\n\u001b[1;32m     21\u001b[0m \u001b[43m                                   \u001b[49m\u001b[38;5;124;43mf\u001b[39;49m\u001b[38;5;124;43m\"\u001b[39;49m\u001b[38;5;124;43m../data/images/image_object_id_\u001b[39;49m\u001b[38;5;132;43;01m{\u001b[39;49;00m\u001b[43mi\u001b[49m\u001b[38;5;132;43;01m}\u001b[39;49;00m\u001b[38;5;124;43m.jpg\u001b[39;49m\u001b[38;5;124;43m\"\u001b[39;49m\u001b[43m)\u001b[49m\n\u001b[1;32m     22\u001b[0m     \u001b[38;5;66;03m# dealing with error in some of the file paths\u001b[39;00m\n\u001b[1;32m     23\u001b[0m     \u001b[38;5;28;01mexcept\u001b[39;00m (urllib\u001b[38;5;241m.\u001b[39merror\u001b[38;5;241m.\u001b[39mHTTPError, http\u001b[38;5;241m.\u001b[39mclient\u001b[38;5;241m.\u001b[39mRemoteDisconnected, \u001b[38;5;167;01mUnicodeError\u001b[39;00m) \u001b[38;5;28;01mas\u001b[39;00m e:\n",
      "File \u001b[0;32m/opt/homebrew/Caskroom/miniforge/base/envs/python-classes/lib/python3.11/urllib/request.py:270\u001b[0m, in \u001b[0;36murlretrieve\u001b[0;34m(url, filename, reporthook, data)\u001b[0m\n\u001b[1;32m    267\u001b[0m     reporthook(blocknum, bs, size)\n\u001b[1;32m    269\u001b[0m \u001b[38;5;28;01mwhile\u001b[39;00m \u001b[38;5;28;01mTrue\u001b[39;00m:\n\u001b[0;32m--> 270\u001b[0m     block \u001b[38;5;241m=\u001b[39m \u001b[43mfp\u001b[49m\u001b[38;5;241;43m.\u001b[39;49m\u001b[43mread\u001b[49m\u001b[43m(\u001b[49m\u001b[43mbs\u001b[49m\u001b[43m)\u001b[49m\n\u001b[1;32m    271\u001b[0m     \u001b[38;5;28;01mif\u001b[39;00m \u001b[38;5;129;01mnot\u001b[39;00m block:\n\u001b[1;32m    272\u001b[0m         \u001b[38;5;28;01mbreak\u001b[39;00m\n",
      "File \u001b[0;32m/opt/homebrew/Caskroom/miniforge/base/envs/python-classes/lib/python3.11/http/client.py:465\u001b[0m, in \u001b[0;36mHTTPResponse.read\u001b[0;34m(self, amt)\u001b[0m\n\u001b[1;32m    462\u001b[0m \u001b[38;5;28;01mif\u001b[39;00m \u001b[38;5;28mself\u001b[39m\u001b[38;5;241m.\u001b[39mlength \u001b[38;5;129;01mis\u001b[39;00m \u001b[38;5;129;01mnot\u001b[39;00m \u001b[38;5;28;01mNone\u001b[39;00m \u001b[38;5;129;01mand\u001b[39;00m amt \u001b[38;5;241m>\u001b[39m \u001b[38;5;28mself\u001b[39m\u001b[38;5;241m.\u001b[39mlength:\n\u001b[1;32m    463\u001b[0m     \u001b[38;5;66;03m# clip the read to the \"end of response\"\u001b[39;00m\n\u001b[1;32m    464\u001b[0m     amt \u001b[38;5;241m=\u001b[39m \u001b[38;5;28mself\u001b[39m\u001b[38;5;241m.\u001b[39mlength\n\u001b[0;32m--> 465\u001b[0m s \u001b[38;5;241m=\u001b[39m \u001b[38;5;28mself\u001b[39m\u001b[38;5;241m.\u001b[39mfp\u001b[38;5;241m.\u001b[39mread(amt)\n\u001b[1;32m    466\u001b[0m \u001b[38;5;28;01mif\u001b[39;00m \u001b[38;5;129;01mnot\u001b[39;00m s \u001b[38;5;129;01mand\u001b[39;00m amt:\n\u001b[1;32m    467\u001b[0m     \u001b[38;5;66;03m# Ideally, we would raise IncompleteRead if the content-length\u001b[39;00m\n\u001b[1;32m    468\u001b[0m     \u001b[38;5;66;03m# wasn't satisfied, but it might break compatibility.\u001b[39;00m\n\u001b[1;32m    469\u001b[0m     \u001b[38;5;28mself\u001b[39m\u001b[38;5;241m.\u001b[39m_close_conn()\n",
      "File \u001b[0;32m/opt/homebrew/Caskroom/miniforge/base/envs/python-classes/lib/python3.11/socket.py:705\u001b[0m, in \u001b[0;36mSocketIO.readinto\u001b[0;34m(self, b)\u001b[0m\n\u001b[1;32m    703\u001b[0m \u001b[38;5;28;01mwhile\u001b[39;00m \u001b[38;5;28;01mTrue\u001b[39;00m:\n\u001b[1;32m    704\u001b[0m     \u001b[38;5;28;01mtry\u001b[39;00m:\n\u001b[0;32m--> 705\u001b[0m         \u001b[38;5;28;01mreturn\u001b[39;00m \u001b[38;5;28;43mself\u001b[39;49m\u001b[38;5;241;43m.\u001b[39;49m\u001b[43m_sock\u001b[49m\u001b[38;5;241;43m.\u001b[39;49m\u001b[43mrecv_into\u001b[49m\u001b[43m(\u001b[49m\u001b[43mb\u001b[49m\u001b[43m)\u001b[49m\n\u001b[1;32m    706\u001b[0m     \u001b[38;5;28;01mexcept\u001b[39;00m timeout:\n\u001b[1;32m    707\u001b[0m         \u001b[38;5;28mself\u001b[39m\u001b[38;5;241m.\u001b[39m_timeout_occurred \u001b[38;5;241m=\u001b[39m \u001b[38;5;28;01mTrue\u001b[39;00m\n",
      "File \u001b[0;32m/opt/homebrew/Caskroom/miniforge/base/envs/python-classes/lib/python3.11/ssl.py:1278\u001b[0m, in \u001b[0;36mSSLSocket.recv_into\u001b[0;34m(self, buffer, nbytes, flags)\u001b[0m\n\u001b[1;32m   1274\u001b[0m     \u001b[38;5;28;01mif\u001b[39;00m flags \u001b[38;5;241m!=\u001b[39m \u001b[38;5;241m0\u001b[39m:\n\u001b[1;32m   1275\u001b[0m         \u001b[38;5;28;01mraise\u001b[39;00m \u001b[38;5;167;01mValueError\u001b[39;00m(\n\u001b[1;32m   1276\u001b[0m           \u001b[38;5;124m\"\u001b[39m\u001b[38;5;124mnon-zero flags not allowed in calls to recv_into() on \u001b[39m\u001b[38;5;132;01m%s\u001b[39;00m\u001b[38;5;124m\"\u001b[39m \u001b[38;5;241m%\u001b[39m\n\u001b[1;32m   1277\u001b[0m           \u001b[38;5;28mself\u001b[39m\u001b[38;5;241m.\u001b[39m\u001b[38;5;18m__class__\u001b[39m)\n\u001b[0;32m-> 1278\u001b[0m     \u001b[38;5;28;01mreturn\u001b[39;00m \u001b[38;5;28;43mself\u001b[39;49m\u001b[38;5;241;43m.\u001b[39;49m\u001b[43mread\u001b[49m\u001b[43m(\u001b[49m\u001b[43mnbytes\u001b[49m\u001b[43m,\u001b[49m\u001b[43m \u001b[49m\u001b[43mbuffer\u001b[49m\u001b[43m)\u001b[49m\n\u001b[1;32m   1279\u001b[0m \u001b[38;5;28;01melse\u001b[39;00m:\n\u001b[1;32m   1280\u001b[0m     \u001b[38;5;28;01mreturn\u001b[39;00m \u001b[38;5;28msuper\u001b[39m()\u001b[38;5;241m.\u001b[39mrecv_into(buffer, nbytes, flags)\n",
      "File \u001b[0;32m/opt/homebrew/Caskroom/miniforge/base/envs/python-classes/lib/python3.11/ssl.py:1134\u001b[0m, in \u001b[0;36mSSLSocket.read\u001b[0;34m(self, len, buffer)\u001b[0m\n\u001b[1;32m   1132\u001b[0m \u001b[38;5;28;01mtry\u001b[39;00m:\n\u001b[1;32m   1133\u001b[0m     \u001b[38;5;28;01mif\u001b[39;00m buffer \u001b[38;5;129;01mis\u001b[39;00m \u001b[38;5;129;01mnot\u001b[39;00m \u001b[38;5;28;01mNone\u001b[39;00m:\n\u001b[0;32m-> 1134\u001b[0m         \u001b[38;5;28;01mreturn\u001b[39;00m \u001b[38;5;28;43mself\u001b[39;49m\u001b[38;5;241;43m.\u001b[39;49m\u001b[43m_sslobj\u001b[49m\u001b[38;5;241;43m.\u001b[39;49m\u001b[43mread\u001b[49m\u001b[43m(\u001b[49m\u001b[38;5;28;43mlen\u001b[39;49m\u001b[43m,\u001b[49m\u001b[43m \u001b[49m\u001b[43mbuffer\u001b[49m\u001b[43m)\u001b[49m\n\u001b[1;32m   1135\u001b[0m     \u001b[38;5;28;01melse\u001b[39;00m:\n\u001b[1;32m   1136\u001b[0m         \u001b[38;5;28;01mreturn\u001b[39;00m \u001b[38;5;28mself\u001b[39m\u001b[38;5;241m.\u001b[39m_sslobj\u001b[38;5;241m.\u001b[39mread(\u001b[38;5;28mlen\u001b[39m)\n",
      "\u001b[0;31mKeyboardInterrupt\u001b[0m: "
     ]
    }
   ],
   "source": [
    "def get_images():\n",
    "    # getting all of the objects\n",
    "    all_objects_request = requests.get(\"https://collectionapi.metmuseum.org/public/collection/v1/objects\")\n",
    "    all_objects = all_objects_request.json()\n",
    "    # for each object, getting its data\n",
    "    object_ids_list = all_objects['objectIDs']\n",
    "    for i in tqdm(sorted(object_ids_list)):\n",
    "        # getting request response for each object\n",
    "        individual_object_request = requests.get(f\"https://collectionapi.metmuseum.org/public/collection/v1/objects/{i}\")\n",
    "        individual_object_data = individual_object_request.json()\n",
    "        # not all items have an image.\n",
    "        # if item has an image, saving it as a .jpg\n",
    "        if bool(individual_object_data['primaryImageSmall']):\n",
    "            # some image links contain a space and are not readable.\n",
    "            if \" \" in individual_object_data['primaryImageSmall']:\n",
    "                continue\n",
    "            else:\n",
    "                try:\n",
    "                    # for readable links, retrieving the image and saving it.\n",
    "                    urllib.request.urlretrieve(individual_object_data['primaryImageSmall'],\n",
    "                                               f\"../data/images/image_object_id_{i}.jpg\")\n",
    "                # dealing with error in some of the file paths\n",
    "                except (urllib.error.HTTPError, http.client.RemoteDisconnected, UnicodeError) as e:\n",
    "                    continue\n",
    "        else:\n",
    "            continue\n",
    "        \n",
    "get_images()"
   ]
  },
  {
   "cell_type": "code",
   "execution_count": 36,
   "id": "3aa677cf-c4b5-45ff-8781-ceae4ca17440",
   "metadata": {},
   "outputs": [
    {
     "ename": "FileNotFoundError",
     "evalue": "[Errno 2] No such file or directory: './data/images/'",
     "output_type": "error",
     "traceback": [
      "\u001b[0;31m---------------------------------------------------------------------------\u001b[0m",
      "\u001b[0;31mFileNotFoundError\u001b[0m                         Traceback (most recent call last)",
      "Cell \u001b[0;32mIn[36], line 51\u001b[0m\n\u001b[1;32m     48\u001b[0m     plt\u001b[38;5;241m.\u001b[39mclose(fig)\n\u001b[1;32m     49\u001b[0m     \u001b[38;5;28;01mreturn\u001b[39;00m\n\u001b[0;32m---> 51\u001b[0m \u001b[43mplot_images\u001b[49m\u001b[43m(\u001b[49m\u001b[43m)\u001b[49m\n",
      "Cell \u001b[0;32mIn[36], line 11\u001b[0m, in \u001b[0;36mplot_images\u001b[0;34m()\u001b[0m\n\u001b[1;32m      8\u001b[0m \u001b[38;5;28;01mdef\u001b[39;00m \u001b[38;5;21mplot_images\u001b[39m():\n\u001b[1;32m      9\u001b[0m     \u001b[38;5;66;03m# loading the image arrays\u001b[39;00m\n\u001b[1;32m     10\u001b[0m     image_path \u001b[38;5;241m=\u001b[39m \u001b[38;5;124m\"\u001b[39m\u001b[38;5;124m./data/images/\u001b[39m\u001b[38;5;124m\"\u001b[39m\n\u001b[0;32m---> 11\u001b[0m     image_files \u001b[38;5;241m=\u001b[39m \u001b[43mload_images\u001b[49m\u001b[43m(\u001b[49m\u001b[43mimage_path\u001b[49m\u001b[43m)\u001b[49m\n\u001b[1;32m     13\u001b[0m     item_image_indexes \u001b[38;5;241m=\u001b[39m []\n\u001b[1;32m     14\u001b[0m     item_image_files \u001b[38;5;241m=\u001b[39m []\n",
      "Cell \u001b[0;32mIn[36], line 4\u001b[0m, in \u001b[0;36mload_images\u001b[0;34m(path)\u001b[0m\n\u001b[1;32m      1\u001b[0m \u001b[38;5;28;01mdef\u001b[39;00m \u001b[38;5;21mload_images\u001b[39m(path):\n\u001b[1;32m      2\u001b[0m     \u001b[38;5;66;03m# Helper function for loading the image \u001b[39;00m\n\u001b[1;32m      3\u001b[0m     image_files \u001b[38;5;241m=\u001b[39m \u001b[38;5;28msorted\u001b[39m([os\u001b[38;5;241m.\u001b[39mpath\u001b[38;5;241m.\u001b[39mjoin(path, file)\n\u001b[0;32m----> 4\u001b[0m          \u001b[38;5;28;01mfor\u001b[39;00m file \u001b[38;5;129;01min\u001b[39;00m \u001b[43mos\u001b[49m\u001b[38;5;241;43m.\u001b[39;49m\u001b[43mlistdir\u001b[49m\u001b[43m(\u001b[49m\u001b[43mpath\u001b[49m\u001b[43m)\u001b[49m \u001b[38;5;28;01mif\u001b[39;00m file\u001b[38;5;241m.\u001b[39mendswith(\u001b[38;5;124m'\u001b[39m\u001b[38;5;124m.jpg\u001b[39m\u001b[38;5;124m'\u001b[39m)])\n\u001b[1;32m      5\u001b[0m     \u001b[38;5;28;01mreturn\u001b[39;00m image_files\n",
      "\u001b[0;31mFileNotFoundError\u001b[0m: [Errno 2] No such file or directory: './data/images/'"
     ]
    }
   ],
   "source": [
    "def load_images(path):\n",
    "    # Helper function for loading the image \n",
    "    image_files = sorted([os.path.join(path, file)\n",
    "         for file in os.listdir(path) if file.endswith('.jpg')])\n",
    "    return image_files\n",
    "\n",
    "\n",
    "def plot_images():\n",
    "    # loading the image arrays\n",
    "    image_path = \"./data/images/\"\n",
    "    image_files = load_images(image_path)\n",
    "    \n",
    "    item_image_indexes = []\n",
    "    item_image_files = []\n",
    "    for file in image_files:\n",
    "        start = file.find(\"id_\") + len(\"id_\")\n",
    "        end = file.find(\".jpg\")\n",
    "        substring = file[start:end]\n",
    "        item_image_files.append(file)\n",
    "        item_image_indexes.append(int(substring))\n",
    "\n",
    "    image_arrays = []\n",
    "    for image in item_image_files[:30000]:\n",
    "        # using openCV for the pre-processing and resizing\n",
    "        image_arrays.append(cv2.resize(cv2.cvtColor(cv2.imread(image), cv2.COLOR_BGR2RGB), (200,200)))\n",
    "\n",
    "    # making the plots\n",
    "    fig = plt.figure(figsize=(50, 40))\n",
    "    grid = ImageGrid(fig, 111,\n",
    "                     nrows_ncols=(5, 10),\n",
    "                     axes_pad=0,\n",
    "                     )\n",
    "    plt.axis('off')\n",
    "    sample = np.random.choice(np.arange(len(image_arrays)), 50)\n",
    "    example_images = []\n",
    "    for i in sample:\n",
    "        example_images.append(image_arrays[i])\n",
    "    for ax, im in zip(grid, example_images):\n",
    "        # Iterating over the grid returns the Axes.\n",
    "        ax.imshow(im)\n",
    "        ax.grid(False)\n",
    "\n",
    "        # Hide axes ticks\n",
    "        ax.set_xticks([])\n",
    "        ax.set_yticks([])\n",
    "\n",
    "    fig.savefig(f'../data/images/image_grid.png', bbox_inches='tight')\n",
    "    plt.close(fig)\n",
    "    return\n",
    "\n",
    "plot_images()"
   ]
  },
  {
   "cell_type": "markdown",
   "id": "3a6449e3-4fa5-4cc3-abdc-4879445be319",
   "metadata": {},
   "source": [
    "# 2. Regression factors\n",
    "The formula for the regression coefficients is\n",
    "\n",
    "$\\beta = (X'X)^{(-1)}X'Y $\n",
    "\n",
    "But the data is a bit messed up, meaning that the format of the independent variables are saved in a flat array. That means we have a 1xN vector, i.e. the data was changed from that: \n",
    "\n",
    "<img src=\"../assets/data_before.png\" alt=\"\" width=\"500\"/>\n",
    "\n",
    "to that:\n",
    "\n",
    "<img src=\"../assets/data_after.png\" alt=\"\" width=\"700\"/>\n",
    "\n",
    "The array contains the following variables: \n",
    "\n",
    "- Sale (in Dollars) - Amount of money received by the store\n",
    "- Pack Size - Number of bottles per item\n",
    "- State Bottle Cost - Cost of producing the bottle \n",
    "- Packs Sold - Amount of bottles sold\n",
    "- Bottle Volume (in ml) - How many ml each bottle has\n",
    "\n",
    "\n",
    "\n",
    "Question: Determine the regression coefficients of the following OLS regression\n",
    "\n",
    "$Sale = \\beta_0 + \\beta_1 * (Pack Size) + \\beta_2 * (State Bottle Cost) + \\beta_3 * (Packs Sold) + \\beta_4 * (Bottle Volume) + \\epsilon $"
   ]
  },
  {
   "cell_type": "code",
   "execution_count": 65,
   "id": "5360ff3b-a456-4752-a298-5beba4875925",
   "metadata": {},
   "outputs": [],
   "source": [
    "def beta_coefficients(): \n",
    "    # Loading the data\n",
    "    with open('../data/data.pkl','rb') as f:\n",
    "        data = np.load(f, allow_pickle=True)\n",
    "\n",
    "    # Loading the Column names \n",
    "    column_names = [\"Sale (in Dollars)\", \"Pack Size\", \"State Bottle Cost\", \"Packs Sold\", \"Bottle Volume (in ml)\"]\n",
    "\n",
    "    # Reshaping array from a 1x500000 format to a 5x100000 format\n",
    "    reshaped_data = data.reshape(100_000,-1)\n",
    "\n",
    "    # Changing the string varibles to floats\n",
    "    float_data = reshaped_data.astype(np.float64)\n",
    "\n",
    "    # Separating the Sale variable from the rest\n",
    "    independent = float_data[:,1:]\n",
    "    Y = float_data[:,0]\n",
    "\n",
    "    # Creating a column with only ones and add that to the numpy array as a column (this is done for the intercept)\n",
    "    ones = np.ones(independent.shape[0])\n",
    "    X = np.c_[ones, independent]\n",
    "\n",
    "    # Applying regression coefficient formula\n",
    "    X_prime = np.transpose(X)  \n",
    "\n",
    "    inverse_part = np.linalg.inv(np.dot(X_prime, X))\n",
    "    X_prime_Y = np.dot(X_prime, Y)\n",
    "    beta = np.dot(inverse_part, X_prime_Y)\n",
    "\n",
    "    # Printing the coefficients and the name of the regressor \n",
    "    return beta"
   ]
  },
  {
   "cell_type": "code",
   "execution_count": 66,
   "id": "f5a3714e-2d21-462e-a263-1cd59bffc9c2",
   "metadata": {},
   "outputs": [],
   "source": [
    "def stats_package():\n",
    "    # Loading the data\n",
    "    with open('../data/data.pkl','rb') as f:\n",
    "        data = np.load(f, allow_pickle=True)\n",
    "\n",
    "    # Loading the Column names \n",
    "    column_names = [\"Sale (in Dollars)\", \"Pack Size\", \"State Bottle Cost\", \"Packs Sold\", \"Bottle Volume (in ml)\"]\n",
    "\n",
    "    # Reshaping array from a 1x500000 format to a 5x100000 format\n",
    "    reshaped_data = data.reshape(100_000,-1)\n",
    "\n",
    "    # Changing the string varibles to floats\n",
    "    float_data = reshaped_data.astype(np.float64)\n",
    "\n",
    "    # Separating the Sale variable from the rest\n",
    "    independent = float_data[:,1:]\n",
    "    Y = float_data[:,0]\n",
    "\n",
    "    # Creating a column with only ones and add that to the numpy array as a column (this is done for the intercept)\n",
    "    ones = np.ones(independent.shape[0])\n",
    "    X = np.c_[ones, independent]\n",
    "    \n",
    "    # Defining statistical model\n",
    "    model = sm.OLS(Y, X)\n",
    "    \n",
    "    # Fitting the results\n",
    "    results = model.fit()\n",
    "    \n",
    "    # Printing the entire OLS summary statistics\n",
    "    return results.summary()"
   ]
  },
  {
   "cell_type": "code",
   "execution_count": 67,
   "id": "23ab65da-0468-4528-80da-61d721c1b178",
   "metadata": {},
   "outputs": [
    {
     "data": {
      "text/plain": [
       "array([-3.88928013e+01, -4.62402519e+00,  9.48100848e+00,  1.53183949e+01,\n",
       "       -1.88215965e-02])"
      ]
     },
     "execution_count": 67,
     "metadata": {},
     "output_type": "execute_result"
    }
   ],
   "source": [
    "beta = beta_coefficients()\n",
    "beta"
   ]
  },
  {
   "cell_type": "code",
   "execution_count": 68,
   "id": "355c56e4-3061-4566-88d2-246356d5dab7",
   "metadata": {},
   "outputs": [
    {
     "data": {
      "text/html": [
       "<table class=\"simpletable\">\n",
       "<caption>OLS Regression Results</caption>\n",
       "<tr>\n",
       "  <th>Dep. Variable:</th>            <td>y</td>        <th>  R-squared:         </th>  <td>   0.779</td>  \n",
       "</tr>\n",
       "<tr>\n",
       "  <th>Model:</th>                   <td>OLS</td>       <th>  Adj. R-squared:    </th>  <td>   0.779</td>  \n",
       "</tr>\n",
       "<tr>\n",
       "  <th>Method:</th>             <td>Least Squares</td>  <th>  F-statistic:       </th>  <td>8.835e+04</td> \n",
       "</tr>\n",
       "<tr>\n",
       "  <th>Date:</th>             <td>Fri, 13 Jan 2023</td> <th>  Prob (F-statistic):</th>   <td>  0.00</td>   \n",
       "</tr>\n",
       "<tr>\n",
       "  <th>Time:</th>                 <td>17:23:19</td>     <th>  Log-Likelihood:    </th> <td>-6.6361e+05</td>\n",
       "</tr>\n",
       "<tr>\n",
       "  <th>No. Observations:</th>      <td>100000</td>      <th>  AIC:               </th>  <td>1.327e+06</td> \n",
       "</tr>\n",
       "<tr>\n",
       "  <th>Df Residuals:</th>          <td> 99995</td>      <th>  BIC:               </th>  <td>1.327e+06</td> \n",
       "</tr>\n",
       "<tr>\n",
       "  <th>Df Model:</th>              <td>     4</td>      <th>                     </th>      <td> </td>     \n",
       "</tr>\n",
       "<tr>\n",
       "  <th>Covariance Type:</th>      <td>nonrobust</td>    <th>                     </th>      <td> </td>     \n",
       "</tr>\n",
       "</table>\n",
       "<table class=\"simpletable\">\n",
       "<tr>\n",
       "    <td></td>       <th>coef</th>     <th>std err</th>      <th>t</th>      <th>P>|t|</th>  <th>[0.025</th>    <th>0.975]</th>  \n",
       "</tr>\n",
       "<tr>\n",
       "  <th>const</th> <td>  -38.8928</td> <td>    2.675</td> <td>  -14.537</td> <td> 0.000</td> <td>  -44.137</td> <td>  -33.649</td>\n",
       "</tr>\n",
       "<tr>\n",
       "  <th>x1</th>    <td>   -4.6240</td> <td>    0.104</td> <td>  -44.531</td> <td> 0.000</td> <td>   -4.828</td> <td>   -4.421</td>\n",
       "</tr>\n",
       "<tr>\n",
       "  <th>x2</th>    <td>    9.4810</td> <td>    0.092</td> <td>  102.755</td> <td> 0.000</td> <td>    9.300</td> <td>    9.662</td>\n",
       "</tr>\n",
       "<tr>\n",
       "  <th>x3</th>    <td>   15.3184</td> <td>    0.026</td> <td>  586.137</td> <td> 0.000</td> <td>   15.267</td> <td>   15.370</td>\n",
       "</tr>\n",
       "<tr>\n",
       "  <th>x4</th>    <td>   -0.0188</td> <td>    0.002</td> <td>  -12.034</td> <td> 0.000</td> <td>   -0.022</td> <td>   -0.016</td>\n",
       "</tr>\n",
       "</table>\n",
       "<table class=\"simpletable\">\n",
       "<tr>\n",
       "  <th>Omnibus:</th>       <td>190007.483</td> <th>  Durbin-Watson:     </th>    <td>   2.005</td>    \n",
       "</tr>\n",
       "<tr>\n",
       "  <th>Prob(Omnibus):</th>   <td> 0.000</td>   <th>  Jarque-Bera (JB):  </th> <td>11161884404.418</td>\n",
       "</tr>\n",
       "<tr>\n",
       "  <th>Skew:</th>            <td>13.336</td>   <th>  Prob(JB):          </th>    <td>    0.00</td>    \n",
       "</tr>\n",
       "<tr>\n",
       "  <th>Kurtosis:</th>       <td>1639.503</td>  <th>  Cond. No.          </th>    <td>4.81e+03</td>    \n",
       "</tr>\n",
       "</table><br/><br/>Notes:<br/>[1] Standard Errors assume that the covariance matrix of the errors is correctly specified.<br/>[2] The condition number is large, 4.81e+03. This might indicate that there are<br/>strong multicollinearity or other numerical problems."
      ],
      "text/plain": [
       "<class 'statsmodels.iolib.summary.Summary'>\n",
       "\"\"\"\n",
       "                            OLS Regression Results                            \n",
       "==============================================================================\n",
       "Dep. Variable:                      y   R-squared:                       0.779\n",
       "Model:                            OLS   Adj. R-squared:                  0.779\n",
       "Method:                 Least Squares   F-statistic:                 8.835e+04\n",
       "Date:                Fri, 13 Jan 2023   Prob (F-statistic):               0.00\n",
       "Time:                        17:23:19   Log-Likelihood:            -6.6361e+05\n",
       "No. Observations:              100000   AIC:                         1.327e+06\n",
       "Df Residuals:                   99995   BIC:                         1.327e+06\n",
       "Df Model:                           4                                         \n",
       "Covariance Type:            nonrobust                                         \n",
       "==============================================================================\n",
       "                 coef    std err          t      P>|t|      [0.025      0.975]\n",
       "------------------------------------------------------------------------------\n",
       "const        -38.8928      2.675    -14.537      0.000     -44.137     -33.649\n",
       "x1            -4.6240      0.104    -44.531      0.000      -4.828      -4.421\n",
       "x2             9.4810      0.092    102.755      0.000       9.300       9.662\n",
       "x3            15.3184      0.026    586.137      0.000      15.267      15.370\n",
       "x4            -0.0188      0.002    -12.034      0.000      -0.022      -0.016\n",
       "==============================================================================\n",
       "Omnibus:                   190007.483   Durbin-Watson:                   2.005\n",
       "Prob(Omnibus):                  0.000   Jarque-Bera (JB):      11161884404.418\n",
       "Skew:                          13.336   Prob(JB):                         0.00\n",
       "Kurtosis:                    1639.503   Cond. No.                     4.81e+03\n",
       "==============================================================================\n",
       "\n",
       "Notes:\n",
       "[1] Standard Errors assume that the covariance matrix of the errors is correctly specified.\n",
       "[2] The condition number is large, 4.81e+03. This might indicate that there are\n",
       "strong multicollinearity or other numerical problems.\n",
       "\"\"\""
      ]
     },
     "execution_count": 68,
     "metadata": {},
     "output_type": "execute_result"
    }
   ],
   "source": [
    "stats = stats_package()\n",
    "stats"
   ]
  },
  {
   "cell_type": "code",
   "execution_count": null,
   "id": "953c6e56-3898-484f-87c9-649e5ed5b9a3",
   "metadata": {},
   "outputs": [],
   "source": []
  }
 ],
 "metadata": {
  "kernelspec": {
   "display_name": "Python 3 (ipykernel)",
   "language": "python",
   "name": "python3"
  },
  "language_info": {
   "codemirror_mode": {
    "name": "ipython",
    "version": 3
   },
   "file_extension": ".py",
   "mimetype": "text/x-python",
   "name": "python",
   "nbconvert_exporter": "python",
   "pygments_lexer": "ipython3",
   "version": "3.11.0"
  },
  "vscode": {
   "interpreter": {
    "hash": "33e49de180f7b68adbe0b8c3da4cce2849e5189a09c8fdb059671b22301aa1fe"
   }
  }
 },
 "nbformat": 4,
 "nbformat_minor": 5
}
