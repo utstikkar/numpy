{
 "cells": [
  {
   "cell_type": "code",
   "execution_count": 4,
   "metadata": {},
   "outputs": [],
   "source": [
    "import sys\n",
    "import numpy as np\n",
    "import pandas as pd\n",
    "import matplotlib.pyplot as plt"
   ]
  },
  {
   "attachments": {},
   "cell_type": "markdown",
   "metadata": {},
   "source": [
    "# Vectors"
   ]
  },
  {
   "attachments": {},
   "cell_type": "markdown",
   "metadata": {},
   "source": [
    "## Practical \n",
    "\n",
    "Calculate the absolute difference between the sum of squared numbers between 1 and 100 and the square of their sum, once in pure python and with numpy arrays: \n",
    "$$ |(1^2 + 2^2 + 3^2 + ...) - (1 + 2 + 3 + ...)^2|$$ "
   ]
  },
  {
   "attachments": {},
   "cell_type": "markdown",
   "metadata": {},
   "source": [
    "### Pure python:"
   ]
  },
  {
   "cell_type": "code",
   "execution_count": 5,
   "metadata": {},
   "outputs": [
    {
     "data": {
      "text/plain": [
       "25164150"
      ]
     },
     "execution_count": 5,
     "metadata": {},
     "output_type": "execute_result"
    }
   ],
   "source": [
    "def purepython():\n",
    "    list100 = list(range(100 + 1)) # Initiating the list\n",
    "\n",
    "    sum_squared = (sum(list100))**2 # Taking the sum of all numbers and the square that sum\n",
    "    squared_sum = sum([i**2 for i in list100]) # Taking the square of all numbers and then sum\n",
    "\n",
    "    list_answer = abs(squared_sum - sum_squared) # Taking the difference\n",
    "    return list_answer\n",
    "\n",
    "purepython()"
   ]
  },
  {
   "attachments": {},
   "cell_type": "markdown",
   "metadata": {},
   "source": [
    "### Numpy array"
   ]
  },
  {
   "cell_type": "code",
   "execution_count": 6,
   "metadata": {},
   "outputs": [
    {
     "data": {
      "text/plain": [
       "25164150"
      ]
     },
     "execution_count": 6,
     "metadata": {},
     "output_type": "execute_result"
    }
   ],
   "source": [
    "def numpyarray():\n",
    "    list100 = np.arange(100 + 1) # Initiating the numpy array\n",
    "\n",
    "    sum_squared = np.sum(np.square(list100))\n",
    "    squared_sum = np.square(np.sum(list100))\n",
    "\n",
    "    list_answer = abs(squared_sum - sum_squared)\n",
    "    return list_answer\n",
    "\n",
    "numpyarray()"
   ]
  },
  {
   "cell_type": "markdown",
   "metadata": {},
   "source": [
    "# Practical: Finding the biggest product"
   ]
  },
  {
   "cell_type": "markdown",
   "metadata": {},
   "source": [
    "In the 20×20 grid below, four numbers along a diagonal line have been marked in red.\n",
    "\n",
    "<img src=\"../assets/number.png\" alt=\"\" width=\"500\"/>\n",
    "\n",
    "The product of these numbers is 26 × 63 × 78 × 14 = 1788696.\n",
    "\n",
    "What is the greatest product of four adjacent numbers in the same direction (up, down, left, right, or diagonally) in the 20×20 grid?"
   ]
  },
  {
   "cell_type": "markdown",
   "metadata": {},
   "source": [
    "### Potential approach\n",
    "1. Getting the numbers in a workable format - (from string to integers, in a list, etc)\n",
    "2. Writing a loop to extract a 4x4 matrix of the grid\n",
    "3. Writing a function to calculate all potential products"
   ]
  },
  {
   "cell_type": "code",
   "execution_count": 7,
   "metadata": {},
   "outputs": [],
   "source": [
    "num = (\"\"\"\n",
    "08 02 22 97 38 15 00 40 00 75 04 05 07 78 52 12 50 77 91 08\n",
    "49 49 99 40 17 81 18 57 60 87 17 40 98 43 69 48 04 56 62 00\n",
    "81 49 31 73 55 79 14 29 93 71 40 67 53 88 30 03 49 13 36 65\n",
    "52 70 95 23 04 60 11 42 69 24 68 56 01 32 56 71 37 02 36 91\n",
    "22 31 16 71 51 67 63 89 41 92 36 54 22 40 40 28 66 33 13 80\n",
    "24 47 32 60 99 03 45 02 44 75 33 53 78 36 84 20 35 17 12 50\n",
    "32 98 81 28 64 23 67 10 26 38 40 67 59 54 70 66 18 38 64 70\n",
    "67 26 20 68 02 62 12 20 95 63 94 39 63 08 40 91 66 49 94 21\n",
    "24 55 58 05 66 73 99 26 97 17 78 78 96 83 14 88 34 89 63 72\n",
    "21 36 23 09 75 00 76 44 20 45 35 14 00 61 33 97 34 31 33 95\n",
    "78 17 53 28 22 75 31 67 15 94 03 80 04 62 16 14 09 53 56 92\n",
    "16 39 05 42 96 35 31 47 55 58 88 24 00 17 54 24 36 29 85 57\n",
    "86 56 00 48 35 71 89 07 05 44 44 37 44 60 21 58 51 54 17 58\n",
    "19 80 81 68 05 94 47 69 28 73 92 13 86 52 17 77 04 89 55 40\n",
    "04 52 08 83 97 35 99 16 07 97 57 32 16 26 26 79 33 27 98 66\n",
    "88 36 68 87 57 62 20 72 03 46 33 67 46 55 12 32 63 93 53 69\n",
    "04 42 16 73 38 25 39 11 24 94 72 18 08 46 29 32 40 62 76 36\n",
    "20 69 36 41 72 30 23 88 34 62 99 69 82 67 59 85 74 04 36 16\n",
    "20 73 35 29 78 31 90 01 74 31 49 71 48 86 81 16 23 57 05 54\n",
    "01 70 54 71 83 51 54 69 16 92 33 48 61 43 52 01 89 19 67 48\"\"\".replace(\"\\n\", \" \"))"
   ]
  },
  {
   "attachments": {},
   "cell_type": "markdown",
   "metadata": {},
   "source": [
    "## Answer:"
   ]
  },
  {
   "cell_type": "code",
   "execution_count": 8,
   "metadata": {},
   "outputs": [
    {
     "name": "stdout",
     "output_type": "stream",
     "text": [
      "70600674\n"
     ]
    }
   ],
   "source": [
    "def question1(num):\n",
    "\n",
    "    # Function to create product of numbers \n",
    "    def list_product(digits, maximum):\n",
    "        # Calculating the maximum of left, right, yp and down\n",
    "        for i in range(digits.shape[0]):\n",
    "            product = max(np.prod(digits[:,i]), # Horizontal\n",
    "                          np.prod(digits[i,:]), # Vertical\n",
    "                          np.prod(digits.diagonal()), # Diagonal\n",
    "                          np.prod(np.fliplr(digits).diagonal()) # Reverse diagonal\n",
    "                          )        \n",
    "            # Checking whether its higher than the maximum\n",
    "            if product > maximum:\n",
    "                maximum = product\n",
    "\n",
    "        return maximum\n",
    "\n",
    "    # Length of the number of rows\n",
    "    num_rows = 20\n",
    "    adjacent_numbers = 4\n",
    "    max_product = 0\n",
    "\n",
    "    # List out of all numbers\n",
    "    list_num = num.split()\n",
    "\n",
    "    # Empty list \n",
    "    list_lists = []\n",
    "\n",
    "    # Numpy list of lists - Changing the format from the a big list, to a list of lists\n",
    "    for elem in range(num_rows):\n",
    "        start = (elem) * 20 # The grid has 20 columns\n",
    "        end = (elem + 1) * 20 \n",
    "        row = list_num[start:end]\n",
    "        list_lists.append(row)    \n",
    "\n",
    "    # Using numpy for easier slicing\n",
    "    list_lists = np.array(list_lists, dtype = int) # This is used for using the functions with less effort\n",
    "\n",
    "    # Getting 4x4 matrices out of all the datapoints\n",
    "    for i in range(num_rows - adjacent_numbers):\n",
    "        # Going column wise \n",
    "        start_i = i\n",
    "        end_i = i + 4\n",
    "        # As well as row wise\n",
    "        for j in range(num_rows - adjacent_numbers):\n",
    "            start_j = j\n",
    "            end_j = j + 4\n",
    "            # Applying the function for every 4x4 matrix\n",
    "            max_product = list_product(list_lists[start_i:end_i,start_j:end_j],\n",
    "                                       max_product)\n",
    "\n",
    "    print(max_product)\n",
    "    \n",
    "question1(num)"
   ]
  }
 ],
 "metadata": {
  "kernelspec": {
   "display_name": "python-classes",
   "language": "python",
   "name": "python3"
  },
  "language_info": {
   "codemirror_mode": {
    "name": "ipython",
    "version": 3
   },
   "file_extension": ".py",
   "mimetype": "text/x-python",
   "name": "python",
   "nbconvert_exporter": "python",
   "pygments_lexer": "ipython3",
   "version": "3.11.0"
  },
  "varInspector": {
   "cols": {
    "lenName": 16,
    "lenType": 16,
    "lenVar": 40
   },
   "kernels_config": {
    "python": {
     "delete_cmd_postfix": "",
     "delete_cmd_prefix": "del ",
     "library": "var_list.py",
     "varRefreshCmd": "print(var_dic_list())"
    },
    "r": {
     "delete_cmd_postfix": ") ",
     "delete_cmd_prefix": "rm(",
     "library": "var_list.r",
     "varRefreshCmd": "cat(var_dic_list()) "
    }
   },
   "types_to_exclude": [
    "module",
    "function",
    "builtin_function_or_method",
    "instance",
    "_Feature"
   ],
   "window_display": false
  },
  "vscode": {
   "interpreter": {
    "hash": "33e49de180f7b68adbe0b8c3da4cce2849e5189a09c8fdb059671b22301aa1fe"
   }
  }
 },
 "nbformat": 4,
 "nbformat_minor": 4
}
