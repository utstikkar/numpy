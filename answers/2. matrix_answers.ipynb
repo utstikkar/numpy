{
 "cells": [
  {
   "cell_type": "code",
   "execution_count": 1,
   "metadata": {},
   "outputs": [],
   "source": [
    "import pickle \n",
    "import numpy as np"
   ]
  },
  {
   "attachments": {},
   "cell_type": "markdown",
   "metadata": {},
   "source": [
    "# Matrices"
   ]
  },
  {
   "cell_type": "code",
   "execution_count": 3,
   "metadata": {},
   "outputs": [
    {
     "data": {
      "text/plain": [
       "array([[0.41355382, 0.03883608, 0.40575421],\n",
       "       [0.2897562 , 0.31028894, 0.7556762 ]])"
      ]
     },
     "execution_count": 3,
     "metadata": {},
     "output_type": "execute_result"
    }
   ],
   "source": [
    "data = np.random.rand(2, 3)\n",
    "data"
   ]
  },
  {
   "cell_type": "markdown",
   "metadata": {},
   "source": [
    "## Practical\n",
    "\n",
    "Aggregate by variance `np.var` \n",
    "- over the rows\n",
    "- over the columns\n",
    "- over all data"
   ]
  },
  {
   "cell_type": "code",
   "execution_count": 6,
   "metadata": {},
   "outputs": [
    {
     "name": "stdout",
     "output_type": "stream",
     "text": [
      "[0.00676872 0.02421247]\n",
      "[1.31537198e-02 1.13920991e-05 3.53144670e-03]\n",
      "0.01587265004572448\n"
     ]
    }
   ],
   "source": [
    "# over the rows\n",
    "print(data.var(axis=1))\n",
    "# over the cols\n",
    "print(data.var(axis=0))\n",
    "# over all data\n",
    "print(data.var())"
   ]
  },
  {
   "cell_type": "markdown",
   "metadata": {},
   "source": [
    "## Matrix Practice"
   ]
  },
  {
   "cell_type": "markdown",
   "metadata": {},
   "source": [
    "1. Write a function (using numpy functions) to sort a given array of shape 2 along the first axis (rows), second axis (column), and on a flattened array.\n",
    "\n",
    "example: "
   ]
  },
  {
   "cell_type": "code",
   "execution_count": null,
   "metadata": {},
   "outputs": [],
   "source": [
    "# Expected Output:\n",
    "# Original array:\n",
    "np.array([[10, 40],\n",
    "          [30, 20]])\n",
    "# Sort the array along the first axis:\n",
    "np.array([[10, 20],\n",
    "          [30, 40]])\n",
    "# Sort the array along the last axis:\n",
    "np.array([[10, 40],\n",
    "          [20, 30]])\n",
    "# Sort the flattened array:\n",
    "np.array([10, 20, 30, 40])"
   ]
  },
  {
   "cell_type": "markdown",
   "metadata": {},
   "source": [
    "#### Answer:"
   ]
  },
  {
   "cell_type": "code",
   "execution_count": 10,
   "metadata": {},
   "outputs": [
    {
     "name": "stdout",
     "output_type": "stream",
     "text": [
      "[[30 20]\n",
      " [50 40]]\n",
      "[[40 50]\n",
      " [20 30]]\n",
      "[20 30 40 50]\n"
     ]
    }
   ],
   "source": [
    "A = np.array([[50, 40],\n",
    "          [30, 20]])\n",
    "sort1 = np.sort(A, axis = 0)\n",
    "sort2 = np.sort(A, axis = 1)\n",
    "sort3 = np.sort(A.flatten())\n",
    "print(sort1)\n",
    "print(sort2)\n",
    "print(sort3)"
   ]
  },
  {
   "cell_type": "markdown",
   "metadata": {},
   "source": [
    "2. Write a function (using numpy functions) to get the indices of the sorted elements of a given array\n",
    "\n",
    "Expected Output:\n",
    "\n",
    "Original array:\n",
    "\n",
    "\n",
    "`[1023 5202 6230 1671 1682 5241 4532]`\n",
    "\n",
    "\n",
    "Indices of the sorted elements of a given array:\n",
    "\n",
    "\n",
    "`[0 3 4 6 1 5 2]`"
   ]
  },
  {
   "cell_type": "markdown",
   "metadata": {},
   "source": [
    "#### Answer"
   ]
  },
  {
   "cell_type": "code",
   "execution_count": 11,
   "metadata": {},
   "outputs": [
    {
     "name": "stdout",
     "output_type": "stream",
     "text": [
      "Original array:\n",
      "[1023 5202 6230 1671 1682 5241 4532]\n",
      "Indices of the sorted elements of a given array:\n",
      "[0 3 4 6 1 5 2]\n"
     ]
    },
    {
     "data": {
      "text/plain": [
       "array([0, 3, 4, 6, 1, 5, 2])"
      ]
     },
     "execution_count": 11,
     "metadata": {},
     "output_type": "execute_result"
    }
   ],
   "source": [
    "b = np.array([1023, 5202, 6230, 1671, 1682, 5241, 4532])\n",
    "def ind_sort(ind_array):\n",
    "    print(\"Original array:\" )\n",
    "    print(ind_array)\n",
    "    i = np.argsort(b)\n",
    "    print(\"Indices of the sorted elements of a given array:\")\n",
    "    print(i)\n",
    "    return i\n",
    "ind_sort(b)"
   ]
  },
  {
   "cell_type": "markdown",
   "metadata": {},
   "source": [
    "3. Write a function (using numpy functions) to create a 5x5 array with random values and find the minimum and maximum values."
   ]
  },
  {
   "cell_type": "markdown",
   "metadata": {},
   "source": [
    "#### Answer"
   ]
  },
  {
   "cell_type": "code",
   "execution_count": 12,
   "metadata": {},
   "outputs": [
    {
     "name": "stdout",
     "output_type": "stream",
     "text": [
      "[[48 81 30 84 52]\n",
      " [20 62 26 96  8]\n",
      " [69 66 13  3 33]\n",
      " [47 19 94 95  4]\n",
      " [79 65 86 51 22]]\n",
      "96 3\n"
     ]
    }
   ],
   "source": [
    "import random\n",
    "nums = np.array(random.sample(range(1, 100), 25)).reshape(5, 5)\n",
    "max = np.amax(nums)\n",
    "min = np.amin(nums)\n",
    "print(nums)\n",
    "print(max,min)"
   ]
  },
  {
   "cell_type": "markdown",
   "metadata": {},
   "source": [
    "Second solution:"
   ]
  },
  {
   "cell_type": "code",
   "execution_count": 14,
   "metadata": {},
   "outputs": [
    {
     "name": "stdout",
     "output_type": "stream",
     "text": [
      "[0.15663727 0.62336892 0.70946806 0.91593103 0.27884586 0.90280829\n",
      " 0.69365238 0.76775713 0.85169869 0.90682757 0.96920275 0.14910676\n",
      " 0.45736915 0.4898485  0.54356277 0.99913221 0.47419099 0.76341164\n",
      " 0.57550112 0.2147794  0.30327251 0.51554358 0.86074812 0.33312791\n",
      " 0.80563653]\n",
      "The max is = 0.9991322117471065 The min is = 0.149106762102598\n"
     ]
    }
   ],
   "source": [
    "def max_min(n):\n",
    "    k=np.random.rand(n,n)\n",
    "    a=k.flatten()\n",
    "    print(a)\n",
    "    z=np.max(a)\n",
    "    y=np.min(a)\n",
    "    print(\"The max is =\", z, \"The min is =\", y)\n",
    "max_min(5)"
   ]
  }
 ],
 "metadata": {
  "kernelspec": {
   "display_name": "Python 3 (ipykernel)",
   "language": "python",
   "name": "python3"
  },
  "language_info": {
   "codemirror_mode": {
    "name": "ipython",
    "version": 3
   },
   "file_extension": ".py",
   "mimetype": "text/x-python",
   "name": "python",
   "nbconvert_exporter": "python",
   "pygments_lexer": "ipython3",
   "version": "3.11.0 | packaged by conda-forge | (main, Oct 25 2022, 06:21:25) [Clang 14.0.4 ]"
  },
  "varInspector": {
   "cols": {
    "lenName": 16,
    "lenType": 16,
    "lenVar": 40
   },
   "kernels_config": {
    "python": {
     "delete_cmd_postfix": "",
     "delete_cmd_prefix": "del ",
     "library": "var_list.py",
     "varRefreshCmd": "print(var_dic_list())"
    },
    "r": {
     "delete_cmd_postfix": ") ",
     "delete_cmd_prefix": "rm(",
     "library": "var_list.r",
     "varRefreshCmd": "cat(var_dic_list()) "
    }
   },
   "types_to_exclude": [
    "module",
    "function",
    "builtin_function_or_method",
    "instance",
    "_Feature"
   ],
   "window_display": false
  },
  "vscode": {
   "interpreter": {
    "hash": "33e49de180f7b68adbe0b8c3da4cce2849e5189a09c8fdb059671b22301aa1fe"
   }
  }
 },
 "nbformat": 4,
 "nbformat_minor": 4
}
