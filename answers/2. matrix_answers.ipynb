{
 "cells": [
  {
   "cell_type": "code",
   "execution_count": 2,
   "metadata": {},
   "outputs": [],
   "source": [
    "import pickle \n",
    "import numpy as np"
   ]
  },
  {
   "attachments": {},
   "cell_type": "markdown",
   "metadata": {},
   "source": [
    "# Matrices"
   ]
  },
  {
   "cell_type": "markdown",
   "metadata": {},
   "source": [
    "## Practical\n",
    "\n",
    "Aggregate by variance `np.var` \n",
    "- over the rows\n",
    "- over the columns\n",
    "- over all data"
   ]
  },
  {
   "cell_type": "code",
   "execution_count": 29,
   "metadata": {},
   "outputs": [
    {
     "data": {
      "text/plain": [
       "array([0.00760577, 0.0457996 , 0.01004362])"
      ]
     },
     "execution_count": 29,
     "metadata": {},
     "output_type": "execute_result"
    }
   ],
   "source": [
    "np.var(data, axis=0)"
   ]
  },
  {
   "cell_type": "code",
   "execution_count": 30,
   "metadata": {},
   "outputs": [
    {
     "data": {
      "text/plain": [
       "array([0.03707446, 0.08028754])"
      ]
     },
     "execution_count": 30,
     "metadata": {},
     "output_type": "execute_result"
    }
   ],
   "source": [
    "np.var(data, axis=1)"
   ]
  },
  {
   "cell_type": "code",
   "execution_count": 31,
   "metadata": {},
   "outputs": [
    {
     "data": {
      "text/plain": [
       "0.0765867744040815"
      ]
     },
     "execution_count": 31,
     "metadata": {},
     "output_type": "execute_result"
    }
   ],
   "source": [
    "np.var(data)"
   ]
  },
  {
   "cell_type": "markdown",
   "metadata": {},
   "source": [
    "## Matrix Practice"
   ]
  },
  {
   "attachments": {},
   "cell_type": "markdown",
   "metadata": {},
   "source": [
    "1. Write a function (using numpy) to sort a given array of shape 2 along the first axis (rows), second axis (column), and on a flattened array.\n",
    "\n",
    "example: "
   ]
  },
  {
   "cell_type": "code",
   "execution_count": 54,
   "metadata": {},
   "outputs": [
    {
     "data": {
      "text/plain": [
       "array([10, 20, 30, 40])"
      ]
     },
     "execution_count": 54,
     "metadata": {},
     "output_type": "execute_result"
    }
   ],
   "source": [
    "# Expected Output:\n",
    "# Original array:\n",
    "np.array([[10, 40],\n",
    "          [30, 20]])\n",
    "# Sort the array along the first axis:\n",
    "np.array([[10, 20],\n",
    "          [30, 40]])\n",
    "# Sort the array along the last axis:\n",
    "np.array([[10, 40],\n",
    "          [20, 30]])\n",
    "# Sort the flattened array:\n",
    "np.array([10, 20, 30, 40])"
   ]
  },
  {
   "cell_type": "markdown",
   "metadata": {},
   "source": [
    "#### Answer:"
   ]
  },
  {
   "cell_type": "code",
   "execution_count": 55,
   "metadata": {},
   "outputs": [
    {
     "name": "stdout",
     "output_type": "stream",
     "text": [
      "Original Array: [[10 40]\n",
      " [30 20]]\n",
      "Sort the array along the first axis (rows):\n",
      "[[10 20]\n",
      " [30 40]]\n",
      "Sort the array along the last axis (columns):\n",
      "[[10 40]\n",
      " [20 30]]\n",
      "Sort the flattened array:\n",
      "[10 20 30 40]\n"
     ]
    }
   ],
   "source": [
    "# original array\n",
    "a = np.array([[10, 40],\n",
    "          [30, 20]])\n",
    "print(\"Original Array:\", a)\n",
    "\n",
    "print(\"Sort the array along the first axis (rows):\")\n",
    "print(np.sort(a, axis=0))\n",
    "\n",
    "print(\"Sort the array along the last axis (columns):\")\n",
    "print(np.sort(a, axis=1))\n",
    "\n",
    "print(\"Sort the flattened array:\")\n",
    "print(np.sort(a, axis=None))"
   ]
  },
  {
   "attachments": {},
   "cell_type": "markdown",
   "metadata": {},
   "source": [
    "2. Write a function to get the indices of the sorted elements of a given array\n",
    "\n",
    "Expected Output:\n",
    "\n",
    "Original array:\n",
    "\n",
    "\n",
    "`[1023 5202 6230 1671 1682 5241 4532]`\n",
    "\n",
    "\n",
    "Indices of the sorted elements of a given array:\n",
    "\n",
    "\n",
    "`[0 3 4 6 1 5 2]`"
   ]
  },
  {
   "cell_type": "markdown",
   "metadata": {},
   "source": [
    "#### Answer"
   ]
  },
  {
   "cell_type": "code",
   "execution_count": 56,
   "metadata": {},
   "outputs": [
    {
     "name": "stdout",
     "output_type": "stream",
     "text": [
      "Original Array:\n",
      "[1023 5202 6230 1671 1682 5241 4532]\n",
      "Indicies of the sorted elements of student ID array:\n",
      "[0 3 4 6 1 5 2]\n"
     ]
    },
    {
     "data": {
      "text/plain": [
       "array([0, 3, 4, 6, 1, 5, 2])"
      ]
     },
     "execution_count": 56,
     "metadata": {},
     "output_type": "execute_result"
    }
   ],
   "source": [
    "student_id = np.array([1023, 5202, 6230, 1671, 1682, 5241, 4532])\n",
    "def id_sorter(id_array):\n",
    "    print(\"Original Array:\")\n",
    "    print(id_array)\n",
    "    i = np.argsort(student_id)\n",
    "    print(\"Indicies of the sorted elements of student ID array:\")\n",
    "    print(i)\n",
    "    return i \n",
    "\n",
    "id_sorter(student_id)\n"
   ]
  },
  {
   "cell_type": "markdown",
   "metadata": {},
   "source": [
    "3. Write a function to create a 5x5 array with random values and find the minimum and maximum values."
   ]
  },
  {
   "cell_type": "markdown",
   "metadata": {},
   "source": [
    "#### Answer"
   ]
  },
  {
   "cell_type": "code",
   "execution_count": 57,
   "metadata": {},
   "outputs": [
    {
     "name": "stdout",
     "output_type": "stream",
     "text": [
      "Original Array:\n",
      "[[0.10692117 0.77249894 0.26497063 0.20244497 0.3627213 ]\n",
      " [0.68652303 0.15103275 0.05835538 0.74999069 0.98601996]\n",
      " [0.89658771 0.87459671 0.92502281 0.93525835 0.53746398]\n",
      " [0.83605902 0.69589308 0.92224564 0.81938786 0.96665166]\n",
      " [0.0116458  0.18240519 0.87470089 0.92294342 0.78609639]]\n",
      "Minimum and Maximum Values:\n",
      "0.011645796360233773 0.986019958230802\n"
     ]
    },
    {
     "data": {
      "text/plain": [
       "(0.011645796360233773, 0.986019958230802)"
      ]
     },
     "execution_count": 57,
     "metadata": {},
     "output_type": "execute_result"
    }
   ],
   "source": [
    "def rand5_min_max():\n",
    "    x = np.random.random((5,5))\n",
    "    print(\"Original Array:\")\n",
    "    print(x) \n",
    "    xmin, xmax = x.min(), x.max()\n",
    "    print(\"Minimum and Maximum Values:\")\n",
    "    print(xmin, xmax)\n",
    "    return xmin, xmax\n",
    "\n",
    "rand5_min_max()"
   ]
  }
 ],
 "metadata": {
  "kernelspec": {
   "display_name": "Python 3 (ipykernel)",
   "language": "python",
   "name": "python3"
  },
  "language_info": {
   "codemirror_mode": {
    "name": "ipython",
    "version": 3
   },
   "file_extension": ".py",
   "mimetype": "text/x-python",
   "name": "python",
   "nbconvert_exporter": "python",
   "pygments_lexer": "ipython3",
   "version": "3.11.0 | packaged by conda-forge | (main, Oct 25 2022, 06:21:25) [Clang 14.0.4 ]"
  },
  "varInspector": {
   "cols": {
    "lenName": 16,
    "lenType": 16,
    "lenVar": 40
   },
   "kernels_config": {
    "python": {
     "delete_cmd_postfix": "",
     "delete_cmd_prefix": "del ",
     "library": "var_list.py",
     "varRefreshCmd": "print(var_dic_list())"
    },
    "r": {
     "delete_cmd_postfix": ") ",
     "delete_cmd_prefix": "rm(",
     "library": "var_list.r",
     "varRefreshCmd": "cat(var_dic_list()) "
    }
   },
   "types_to_exclude": [
    "module",
    "function",
    "builtin_function_or_method",
    "instance",
    "_Feature"
   ],
   "window_display": false
  },
  "vscode": {
   "interpreter": {
    "hash": "33e49de180f7b68adbe0b8c3da4cce2849e5189a09c8fdb059671b22301aa1fe"
   }
  }
 },
 "nbformat": 4,
 "nbformat_minor": 4
}
